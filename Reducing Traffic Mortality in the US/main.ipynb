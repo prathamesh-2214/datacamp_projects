{
 "cells": [
  {
   "cell_type": "markdown",
   "id": "ad63e607",
   "metadata": {},
   "source": [
    "# <b> 1. The Raw data files and their Format <b>"
   ]
  },
  {
   "cell_type": "markdown",
   "id": "ead58522",
   "metadata": {},
   "source": [
    "While the rate of fatal road accidents has been decreasing steadily since the 80s, the past ten years have seen a stagnation in this reduction. Coupled with the increase in number of miles driven in the nation, the total number of traffic related-fatalities has now reached a ten year high and is rapidly increasing.\n",
    "\n",
    "Per request of the US Department of Transportation, we are currently investigating how to derive a strategy to reduce the incidence of road accidents across the nation. By looking at the demographics of traﬃc accident victims for each US state, we find that there is a lot of variation between states. Now we want to understand if there are patterns in this variation in order to derive suggestions for a policy action plan. In particular, instead of implementing a costly nation-wide plan we want to focus on groups of states with similar profiles. How can we find such groups in a statistically sound way and communicate the result effectively?\n",
    "\n",
    "To accomplish these tasks, we will make use of data wrangling, plotting, dimensionality reduction, and unsupervised clustering.\n",
    "\n",
    "The data given to us was originally collected by the National Highway Traffic Safety Administration and the National Association of Insurance Commissioners. This particular dataset was compiled and released as a CSV-file by FiveThirtyEight under the CC-BY4.0 license."
   ]
  },
  {
   "cell_type": "code",
   "execution_count": 47,
   "id": "a4163a61",
   "metadata": {},
   "outputs": [
    {
     "name": "stdout",
     "output_type": "stream",
     "text": [
      "Current directory: C:\\Users\\Dell\\Reducing Traffic Mortality in the US\n",
      "List of files : ['.ipynb_checkpoints', 'datasets', 'main.ipynb']\n",
      "Files in Datasets: ['miles_driven.csv', 'road_accidents.csv']\n",
      " \n",
      " Raw CSV file - road_Accidents.csv \n",
      " \n",
      "['##### LICENSE #####']\n",
      "['# This data set is modified from the original at fivethirtyeight (https://github.com/fivethirtyeight/data/tree/master/bad-drivers)']\n",
      "['# and it is released under CC BY 4.0 (https://creativecommons.org/licenses/by/4.0/)']\n",
      "['##### COLUMN ABBREVIATIONS #####']\n",
      "['# drvr_fatl_col_bmiles = Number of drivers involved in fatal collisions per billion miles (2011)']\n",
      "['# perc_fatl_speed = Percentage Of Drivers Involved In Fatal Collisions Who Were Speeding (2009)']\n",
      "['# perc_fatl_alcohol = Percentage Of Drivers Involved In Fatal Collisions Who Were Alcohol-Impaired (2011)']\n",
      "['# perc_fatl_1st_time = Percentage Of Drivers Involved In Fatal Collisions Who Had Not Been Involved In Any Previous Accidents (2011)']\n",
      "['##### DATA BEGIN #####']\n",
      "['state|drvr_fatl_col_bmiles|perc_fatl_speed|perc_fatl_alcohol|perc_fatl_1st_time']\n",
      "['Alabama|18.8|39|30|80']\n",
      "['Alaska|18.1|41|25|94']\n",
      "['Arizona|18.6|35|28|96']\n",
      "['Arkansas|22.4|18|26|95']\n",
      "['California|12|35|28|89']\n",
      "['Colorado|13.6|37|28|95']\n",
      "['Connecticut|10.8|46|36|82']\n",
      "['Delaware|16.2|38|30|99']\n",
      "['District of Columbia|5.9|34|27|100']\n",
      "['Florida|17.9|21|29|94']\n",
      "['Georgia|15.6|19|25|93']\n",
      "['Hawaii|17.5|54|41|87']\n",
      "['Idaho|15.3|36|29|98']\n",
      "['Illinois|12.8|36|34|96']\n",
      "['Indiana|14.5|25|29|95']\n",
      "['Iowa|15.7|17|25|87']\n",
      "['Kansas|17.8|27|24|85']\n",
      "['Kentucky|21.4|19|23|76']\n",
      "['Louisiana|20.5|35|33|98']\n",
      "['Maine|15.1|38|30|84']\n",
      "['Maryland|12.5|34|32|99']\n",
      "['Massachusetts|8.2|23|35|80']\n",
      "['Michigan|14.1|24|28|77']\n",
      "['Minnesota|9.6|23|29|88']\n",
      "['Mississippi|17.6|15|31|100']\n",
      "['Missouri|16.1|43|34|84']\n",
      "['Montana|21.4|39|44|85']\n",
      "['Nebraska|14.9|13|35|90']\n",
      "['Nevada|14.7|37|32|99']\n",
      "['New Hampshire|11.6|35|30|83']\n",
      "['New Jersey|11.2|16|28|78']\n",
      "['New Mexico|18.4|19|27|98']\n",
      "['New York|12.3|32|29|80']\n",
      "['North Carolina|16.8|39|31|81']\n",
      "['North Dakota|23.9|23|42|86']\n",
      "['Ohio|14.1|28|34|82']\n",
      "['Oklahoma|19.9|32|29|94']\n",
      "['Oregon|12.8|33|26|90']\n",
      "['Pennsylvania|18.2|50|31|88']\n",
      "['Rhode Island|11.1|34|38|79']\n",
      "['South Carolina|23.9|38|41|81']\n",
      "['South Dakota|19.4|31|33|86']\n",
      "['Tennessee|19.5|21|29|81']\n",
      "['Texas|19.4|40|38|87']\n",
      "['Utah|11.3|43|16|96']\n",
      "['Vermont|13.6|30|30|95']\n",
      "['Virginia|12.7|19|27|88']\n",
      "['Washington|10.6|42|33|86']\n",
      "['West Virginia|23.8|34|28|87']\n",
      "['Wisconsin|13.8|36|33|84']\n",
      "['Wyoming|17.4|42|32|90']\n"
     ]
    }
   ],
   "source": [
    "\n",
    "#importing the os module\n",
    "import os\n",
    "\n",
    "#Check the name of current folder\n",
    "curr_dir = os.getcwd()\n",
    "print(f\"Current directory: {curr_dir}\")\n",
    "\n",
    "#list all files in the folder\n",
    "list_files = os.listdir(curr_dir)\n",
    "print(f\"List of files : {list_files}\")\n",
    "\n",
    "#list all files in dataset directory\n",
    "\n",
    "dataset_files = os.listdir(list_files[1])\n",
    "print(f\"Files in Datasets: {dataset_files}\")\n",
    "\n",
    "#Read Raw csv file\n",
    "#import csv module\n",
    "import csv\n",
    "\n",
    "#open csv module\n",
    "print(\" \\n Raw CSV file - road_Accidents.csv \\n \")\n",
    "with open('datasets/road_accidents.csv', mode ='r') as file:\n",
    "   \n",
    "  # reading the CSV file\n",
    "    csvFile = csv.reader(file)\n",
    " \n",
    "  # displaying the contents of the CSV file\n",
    "    for lines in csvFile:\n",
    "        print(lines)"
   ]
  },
  {
   "cell_type": "markdown",
   "id": "6ab3cf90",
   "metadata": {},
   "source": [
    "# 2. Read in and get an overview of the data"
   ]
  },
  {
   "cell_type": "markdown",
   "id": "71857e4c",
   "metadata": {},
   "source": [
    "Next, we will orient ourselves to get to know the data with which we are dealing."
   ]
  },
  {
   "cell_type": "code",
   "execution_count": 56,
   "id": "e8d6357b",
   "metadata": {},
   "outputs": [
    {
     "name": "stdout",
     "output_type": "stream",
     "text": [
      "There are 51 rows and 5 columns in our road_accidents table\n",
      "Dataframe Overview\n",
      "<class 'pandas.core.frame.DataFrame'>\n",
      "RangeIndex: 51 entries, 0 to 50\n",
      "Data columns (total 5 columns):\n",
      " #   Column                Non-Null Count  Dtype  \n",
      "---  ------                --------------  -----  \n",
      " 0   state                 51 non-null     object \n",
      " 1   drvr_fatl_col_bmiles  51 non-null     float64\n",
      " 2   perc_fatl_speed       51 non-null     int64  \n",
      " 3   perc_fatl_alcohol     51 non-null     int64  \n",
      " 4   perc_fatl_1st_time    51 non-null     int64  \n",
      "dtypes: float64(1), int64(3), object(1)\n",
      "memory usage: 2.1+ KB\n",
      " \n",
      "None \n",
      "\n"
     ]
    },
    {
     "data": {
      "text/html": [
       "<div>\n",
       "<style scoped>\n",
       "    .dataframe tbody tr th:only-of-type {\n",
       "        vertical-align: middle;\n",
       "    }\n",
       "\n",
       "    .dataframe tbody tr th {\n",
       "        vertical-align: top;\n",
       "    }\n",
       "\n",
       "    .dataframe thead th {\n",
       "        text-align: right;\n",
       "    }\n",
       "</style>\n",
       "<table border=\"1\" class=\"dataframe\">\n",
       "  <thead>\n",
       "    <tr style=\"text-align: right;\">\n",
       "      <th></th>\n",
       "      <th>state</th>\n",
       "      <th>drvr_fatl_col_bmiles</th>\n",
       "      <th>perc_fatl_speed</th>\n",
       "      <th>perc_fatl_alcohol</th>\n",
       "      <th>perc_fatl_1st_time</th>\n",
       "    </tr>\n",
       "  </thead>\n",
       "  <tbody>\n",
       "    <tr>\n",
       "      <th>46</th>\n",
       "      <td>Virginia</td>\n",
       "      <td>12.7</td>\n",
       "      <td>19</td>\n",
       "      <td>27</td>\n",
       "      <td>88</td>\n",
       "    </tr>\n",
       "    <tr>\n",
       "      <th>47</th>\n",
       "      <td>Washington</td>\n",
       "      <td>10.6</td>\n",
       "      <td>42</td>\n",
       "      <td>33</td>\n",
       "      <td>86</td>\n",
       "    </tr>\n",
       "    <tr>\n",
       "      <th>48</th>\n",
       "      <td>West Virginia</td>\n",
       "      <td>23.8</td>\n",
       "      <td>34</td>\n",
       "      <td>28</td>\n",
       "      <td>87</td>\n",
       "    </tr>\n",
       "    <tr>\n",
       "      <th>49</th>\n",
       "      <td>Wisconsin</td>\n",
       "      <td>13.8</td>\n",
       "      <td>36</td>\n",
       "      <td>33</td>\n",
       "      <td>84</td>\n",
       "    </tr>\n",
       "    <tr>\n",
       "      <th>50</th>\n",
       "      <td>Wyoming</td>\n",
       "      <td>17.4</td>\n",
       "      <td>42</td>\n",
       "      <td>32</td>\n",
       "      <td>90</td>\n",
       "    </tr>\n",
       "  </tbody>\n",
       "</table>\n",
       "</div>"
      ],
      "text/plain": [
       "            state  drvr_fatl_col_bmiles  perc_fatl_speed  perc_fatl_alcohol  \\\n",
       "46       Virginia                  12.7               19                 27   \n",
       "47     Washington                  10.6               42                 33   \n",
       "48  West Virginia                  23.8               34                 28   \n",
       "49      Wisconsin                  13.8               36                 33   \n",
       "50        Wyoming                  17.4               42                 32   \n",
       "\n",
       "    perc_fatl_1st_time  \n",
       "46                  88  \n",
       "47                  86  \n",
       "48                  87  \n",
       "49                  84  \n",
       "50                  90  "
      ]
     },
     "execution_count": 56,
     "metadata": {},
     "output_type": "execute_result"
    }
   ],
   "source": [
    "#import pandas library\n",
    "import pandas as pd\n",
    "\n",
    "#read in road_accidents.csv\n",
    "car_accident = pd.read_csv(\"datasets/road_accidents.csv\", comment = \"#\", sep=\"|\")\n",
    "\n",
    "#save number of rows and columns as tuple\n",
    "rows_and_column = car_accident.shape\n",
    "print(f\"There are {rows_and_column[0]} rows and {rows_and_column[1]} columns in our road_accidents table\")\n",
    "\n",
    "print(\"Dataframe Overview\")\n",
    "#Generate an overview of dataframe\n",
    "car_acc_info = car_accident.info()\n",
    "print(f\" \\n{car_acc_info} \\n\")\n",
    "\n",
    "#last 5 rows of dataframe\n",
    "\n",
    "car_accident.tail()\n"
   ]
  },
  {
   "cell_type": "markdown",
   "id": "ebf222a8",
   "metadata": {},
   "source": [
    "# 3. Create a textual and a graphical summary of the data"
   ]
  },
  {
   "cell_type": "markdown",
   "id": "d4bd4144",
   "metadata": {},
   "source": [
    "We now have an idea of what the dataset looks like. To further familiarize ourselves with this data, we will calculate summary statistics and produce a graphical overview of the data. The graphical overview is good to get a sense for the distribution of variables within the data and could consist of one histogram per column. It is often a good idea to also explore the pairwise relationship between all columns in the data set by using a using pairwise scatter plots (sometimes referred to as a \"scatterplot matrix\")."
   ]
  },
  {
   "cell_type": "code",
   "execution_count": 58,
   "id": "9d6fc8e2",
   "metadata": {},
   "outputs": [
    {
     "name": "stdout",
     "output_type": "stream",
     "text": [
      "Summary Statistics:        drvr_fatl_col_bmiles  perc_fatl_speed  perc_fatl_alcohol  \\\n",
      "count             51.000000        51.000000          51.000000   \n",
      "mean              15.790196        31.725490          30.686275   \n",
      "std                4.122002         9.633438           5.132213   \n",
      "min                5.900000        13.000000          16.000000   \n",
      "25%               12.750000        23.000000          28.000000   \n",
      "50%               15.600000        34.000000          30.000000   \n",
      "75%               18.500000        38.000000          33.000000   \n",
      "max               23.900000        54.000000          44.000000   \n",
      "\n",
      "       perc_fatl_1st_time  \n",
      "count            51.00000  \n",
      "mean             88.72549  \n",
      "std               6.96011  \n",
      "min              76.00000  \n",
      "25%              83.50000  \n",
      "50%              88.00000  \n",
      "75%              95.00000  \n",
      "max             100.00000  \n"
     ]
    },
    {
     "data": {
      "text/plain": [
       "<seaborn.axisgrid.PairGrid at 0x27a7f631970>"
      ]
     },
     "execution_count": 58,
     "metadata": {},
     "output_type": "execute_result"
    },
    {
     "data": {
      "image/png": "[encoded data removed]",
      "text/plain": [
       "<Figure size 720x720 with 20 Axes>"
      ]
     },
     "metadata": {
      "needs_background": "light"
     },
     "output_type": "display_data"
    }
   ],
   "source": [
    "#import seaborn library\n",
    "\n",
    "import seaborn as sns\n",
    "\n",
    "#Plot appears in same notebook\n",
    "#plotting commands below the output cell of the previous plot, will not affect the previous plot, which means it separates different plots.\n",
    "%matplotlib inline \n",
    "\n",
    "#Compute summary statistics of all columns in \"car_accident\" dataframe\n",
    "car_stats = car_accident.describe()\n",
    "print(f\"Summary Statistics: {car_stats}\")\n",
    "\n",
    "#create a pairwise scatterplot to explore data\n",
    "sns.pairplot(data=car_accident)"
   ]
  },
  {
   "cell_type": "markdown",
   "id": "72ec52df",
   "metadata": {},
   "source": [
    "# 4. Quantify the association of features and accidents"
   ]
  },
  {
   "cell_type": "markdown",
   "id": "bb3c79c9",
   "metadata": {},
   "source": [
    "We can already see some potentially interesting relationships between the target variable (the number of fatal accidents) and the feature variables (the remaining three columns).\n",
    "\n",
    "To quantify the pairwise relationships that we observed in the scatter plots, we can compute the Pearson correlation coefficient matrix. The Pearson correlation coefficient is one of the most common methods to quantify correlation between variables, and by convention, the following thresholds are usually used:\n",
    "\n",
    "<li> 0.2 = weak\n",
    "<li> 0.5 = medium\n",
    "<li> 0.8 = strong\n",
    "<li> 0.9 = very strong"
   ]
  },
  {
   "cell_type": "code",
   "execution_count": 59,
   "id": "dd0ca26e",
   "metadata": {},
   "outputs": [
    {
     "data": {
      "text/html": [
       "<div>\n",
       "<style scoped>\n",
       "    .dataframe tbody tr th:only-of-type {\n",
       "        vertical-align: middle;\n",
       "    }\n",
       "\n",
       "    .dataframe tbody tr th {\n",
       "        vertical-align: top;\n",
       "    }\n",
       "\n",
       "    .dataframe thead th {\n",
       "        text-align: right;\n",
       "    }\n",
       "</style>\n",
       "<table border=\"1\" class=\"dataframe\">\n",
       "  <thead>\n",
       "    <tr style=\"text-align: right;\">\n",
       "      <th></th>\n",
       "      <th>drvr_fatl_col_bmiles</th>\n",
       "      <th>perc_fatl_speed</th>\n",
       "      <th>perc_fatl_alcohol</th>\n",
       "      <th>perc_fatl_1st_time</th>\n",
       "    </tr>\n",
       "  </thead>\n",
       "  <tbody>\n",
       "    <tr>\n",
       "      <th>drvr_fatl_col_bmiles</th>\n",
       "      <td>1.000000</td>\n",
       "      <td>-0.029080</td>\n",
       "      <td>0.199426</td>\n",
       "      <td>-0.017942</td>\n",
       "    </tr>\n",
       "    <tr>\n",
       "      <th>perc_fatl_speed</th>\n",
       "      <td>-0.029080</td>\n",
       "      <td>1.000000</td>\n",
       "      <td>0.286244</td>\n",
       "      <td>0.014066</td>\n",
       "    </tr>\n",
       "    <tr>\n",
       "      <th>perc_fatl_alcohol</th>\n",
       "      <td>0.199426</td>\n",
       "      <td>0.286244</td>\n",
       "      <td>1.000000</td>\n",
       "      <td>-0.245455</td>\n",
       "    </tr>\n",
       "    <tr>\n",
       "      <th>perc_fatl_1st_time</th>\n",
       "      <td>-0.017942</td>\n",
       "      <td>0.014066</td>\n",
       "      <td>-0.245455</td>\n",
       "      <td>1.000000</td>\n",
       "    </tr>\n",
       "  </tbody>\n",
       "</table>\n",
       "</div>"
      ],
      "text/plain": [
       "                      drvr_fatl_col_bmiles  perc_fatl_speed  \\\n",
       "drvr_fatl_col_bmiles              1.000000        -0.029080   \n",
       "perc_fatl_speed                  -0.029080         1.000000   \n",
       "perc_fatl_alcohol                 0.199426         0.286244   \n",
       "perc_fatl_1st_time               -0.017942         0.014066   \n",
       "\n",
       "                      perc_fatl_alcohol  perc_fatl_1st_time  \n",
       "drvr_fatl_col_bmiles           0.199426           -0.017942  \n",
       "perc_fatl_speed                0.286244            0.014066  \n",
       "perc_fatl_alcohol              1.000000           -0.245455  \n",
       "perc_fatl_1st_time            -0.245455            1.000000  "
      ]
     },
     "execution_count": 59,
     "metadata": {},
     "output_type": "execute_result"
    }
   ],
   "source": [
    "# Compute the correlation coefficient for all column pairs\n",
    "\n",
    "car_corr = car_accident.corr()\n",
    "car_corr"
   ]
  },
  {
   "cell_type": "code",
   "execution_count": null,
   "id": "9b91b8ad",
   "metadata": {},
   "outputs": [],
   "source": []
  }
 ],
 "metadata": {
  "kernelspec": {
   "display_name": "Python 3 (ipykernel)",
   "language": "python",
   "name": "python3"
  },
  "language_info": {
   "codemirror_mode": {
    "name": "ipython",
    "version": 3
   },
   "file_extension": ".py",
   "mimetype": "text/x-python",
   "name": "python",
   "nbconvert_exporter": "python",
   "pygments_lexer": "ipython3",
   "version": "3.9.10"
  }
 },
 "nbformat": 4,
 "nbformat_minor": 5
}
