{
 "cells": [
  {
   "cell_type": "markdown",
   "id": "5187e1e2",
   "metadata": {},
   "source": [
    "# <b> 1. The Raw data files and their Format <b>"
   ]
  },
  {
   "cell_type": "markdown",
   "id": "4721f453",
   "metadata": {},
   "source": [
    "While the rate of fatal road accidents has been decreasing steadily since the 80s, the past ten years have seen a stagnation in this reduction. Coupled with the increase in number of miles driven in the nation, the total number of traffic related-fatalities has now reached a ten year high and is rapidly increasing.\n",
    "\n",
    "Per request of the US Department of Transportation, we are currently investigating how to derive a strategy to reduce the incidence of road accidents across the nation. By looking at the demographics of traﬃc accident victims for each US state, we find that there is a lot of variation between states. Now we want to understand if there are patterns in this variation in order to derive suggestions for a policy action plan. In particular, instead of implementing a costly nation-wide plan we want to focus on groups of states with similar profiles. How can we find such groups in a statistically sound way and communicate the result effectively?\n",
    "\n",
    "To accomplish these tasks, we will make use of data wrangling, plotting, dimensionality reduction, and unsupervised clustering.\n",
    "\n",
    "The data given to us was originally collected by the National Highway Traffic Safety Administration and the National Association of Insurance Commissioners. This particular dataset was compiled and released as a CSV-file by FiveThirtyEight under the CC-BY4.0 license."
   ]
  },
  {
   "cell_type": "code",
   "execution_count": 30,
   "id": "2e51cf7c",
   "metadata": {},
   "outputs": [
    {
     "name": "stdout",
     "output_type": "stream",
     "text": [
      "Current directory: C:\\Users\\Dell\\Reducing Traffic Mortality in the US\n",
      "List of files : ['.ipynb_checkpoints', 'datasets', 'main.ipynb']\n",
      "[]\n"
     ]
    }
   ],
   "source": [
    "\n",
    "#importing the os module\n",
    "import os\n",
    "\n",
    "#Check the name of current folder\n",
    "curr_dir = os.getcwd()\n",
    "print(f\"Current directory: {curr_dir}\")\n",
    "\n",
    "#list all files in the folder\n",
    "list_files = os.listdir(curr_dir)\n",
    "print(f\"List of files : {list_files}\")\n",
    "\n",
    "#list all files in dataset directory\n",
    "\n",
    "dataset_files = os.listdir(list_files[1])\n",
    "print(dataset_files)"
   ]
  },
  {
   "cell_type": "code",
   "execution_count": null,
   "id": "f30c042c",
   "metadata": {},
   "outputs": [],
   "source": []
  }
 ],
 "metadata": {
  "kernelspec": {
   "display_name": "Python 3 (ipykernel)",
   "language": "python",
   "name": "python3"
  },
  "language_info": {
   "codemirror_mode": {
    "name": "ipython",
    "version": 3
   },
   "file_extension": ".py",
   "mimetype": "text/x-python",
   "name": "python",
   "nbconvert_exporter": "python",
   "pygments_lexer": "ipython3",
   "version": "3.9.10"
  }
 },
 "nbformat": 4,
 "nbformat_minor": 5
}
